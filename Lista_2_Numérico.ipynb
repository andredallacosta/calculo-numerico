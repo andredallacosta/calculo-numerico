{
  "nbformat": 4,
  "nbformat_minor": 0,
  "metadata": {
    "colab": {
      "name": "Lista 2 - Numérico.ipynb",
      "provenance": [],
      "collapsed_sections": [
        "Jdlrpk3Eptm7",
        "lbyia6pXQ98a",
        "wrqSCDtjq8Rn",
        "904ab7UE6ay_",
        "kTznUQKM7sZP",
        "LYwGGG8cuZwO",
        "WETM8n6mv5gp",
        "ED-Da84L-2aE",
        "TBTtGcafEOtd",
        "vtCzINEnLeqh",
        "5bG14b29Rnhh"
      ],
      "include_colab_link": true
    },
    "kernelspec": {
      "name": "python3",
      "display_name": "Python 3"
    }
  },
  "cells": [
    {
      "cell_type": "markdown",
      "metadata": {
        "id": "view-in-github",
        "colab_type": "text"
      },
      "source": [
        "<a href=\"https://colab.research.google.com/github/andredallacosta/calculo-numerico/blob/master/Lista_2_Num%C3%A9rico.ipynb\" target=\"_parent\"><img src=\"https://colab.research.google.com/assets/colab-badge.svg\" alt=\"Open In Colab\"/></a>"
      ]
    },
    {
      "cell_type": "markdown",
      "metadata": {
        "id": "mIDiceXTQkmt",
        "colab_type": "text"
      },
      "source": [
        "## [Nome: André Zucchetti Dalla Costa   ---- Trabalho 1]\n",
        "\n",
        "\n"
      ]
    },
    {
      "cell_type": "markdown",
      "metadata": {
        "id": "Jdlrpk3Eptm7",
        "colab_type": "text"
      },
      "source": [
        "## [Imports e Funções Auxiliares]"
      ]
    },
    {
      "cell_type": "code",
      "metadata": {
        "id": "D0k89YZ2pW6J",
        "colab_type": "code",
        "colab": {}
      },
      "source": [
        "import math\n",
        "import numpy as np\n",
        "import sympy as sym\n",
        "import matplotlib.pyplot as plt\n",
        "x = sym.Symbol('x')"
      ],
      "execution_count": null,
      "outputs": []
    },
    {
      "cell_type": "code",
      "metadata": {
        "id": "NUQh09cFpSjC",
        "colab_type": "code",
        "colab": {}
      },
      "source": [
        "def plotMethod(f, inicio, fim, vetor=[], metodo=''):\n",
        "\n",
        "  numero_pontos = 100\n",
        "  curve = np.linspace(inicio, fim, numero_pontos+1)\n",
        "  values = [f(value) for value in curve]\n",
        "  \n",
        "  x_aproximado = [f(value) for value in vetor]\n",
        "\n",
        "  plt.plot(curve, values, linestyle='-')\n",
        "  plt.plot(vetor, x_aproximado, 'x', marker='.', label='' + str(len(vetor)) + ' iterações' )\n",
        "\n",
        "  leg = plt.legend();\n",
        "\n",
        "  plt.xlabel('x')\n",
        "  plt.ylabel('f(x)')\n",
        "  plt.title(metodo)\n",
        "\n",
        "  plt.axhline(0, color = \"black\")\n",
        "  plt.grid()\n",
        "  plt.show()"
      ],
      "execution_count": null,
      "outputs": []
    },
    {
      "cell_type": "markdown",
      "metadata": {
        "id": "lbyia6pXQ98a",
        "colab_type": "text"
      },
      "source": [
        "## [Método da Bissecção]"
      ]
    },
    {
      "cell_type": "code",
      "metadata": {
        "id": "8eQvXvezPzq9",
        "colab_type": "code",
        "colab": {}
      },
      "source": [
        "def bisseccao(f, a, b, epsilon=0, max_iteracoes=0, plot=True):    \n",
        "  eixo_x = a\n",
        "  eixo_y = b\n",
        "  \n",
        "  raizes = []\n",
        "  k = 1\n",
        "  \n",
        "  if (f(a) * f(b)) < 0:\n",
        "    x = (a + b) / 2\n",
        "    raizes.append(x)\n",
        "    \n",
        "    if (max_iteracoes > 0):\n",
        "      while(k < max_iteracoes):\n",
        "        if (f(a) * f(x) < 0):\n",
        "          b = x\n",
        "        else:\n",
        "          a = x\n",
        "        x = (a + b) / 2\n",
        "        raizes.append(x)\n",
        "        k += 1\n",
        " \n",
        "    else:\n",
        "      while(abs(f(x)) > epsilon and k <= 500):\n",
        "        if (f(a) * f(x) < 0):\n",
        "          b = x\n",
        "        else:\n",
        "          a = x\n",
        "        x = (a + b) / 2\n",
        "        raizes.append(x)\n",
        "        k += 1\n",
        "      \n",
        "    print(\"A raiz no intervalo é: \", x)\n",
        "    if (plot):\n",
        "      plotMethod(f, eixo_x, eixo_y, raizes, \"Método da Bissecção\")\n",
        "    else:\n",
        "      print(\"Número de iterações: \", len(raizes))\n",
        "  else:\n",
        "    print(\"Não existem raizes no intervalo [\", a, \", \", b, \"]\")"
      ],
      "execution_count": null,
      "outputs": []
    },
    {
      "cell_type": "code",
      "metadata": {
        "id": "ZYskH9SNq4lt",
        "colab_type": "code",
        "colab": {
          "base_uri": "https://localhost:8080/"
        },
        "outputId": "74481235-0c04-48ff-bf61-cf6f3aad6b7d"
      },
      "source": [
        "# Teste\n",
        "f = lambda x: pow(x, 3) - 9*x + 5\n",
        "bisseccao(f, 0.5, 1, epsilon=1e-2)"
      ],
      "execution_count": null,
      "outputs": [
        {
          "output_type": "stream",
          "text": [
            "A raiz no intervalo é:  0.578125\n"
          ],
          "name": "stdout"
        },
        {
          "output_type": "display_data",
          "data": {
            "image/png": "[encoded data removed]",
            "text/plain": [
              "<Figure size 432x288 with 1 Axes>"
            ]
          },
          "metadata": {
            "tags": [],
            "needs_background": "light"
          }
        }
      ]
    },
    {
      "cell_type": "markdown",
      "metadata": {
        "id": "wrqSCDtjq8Rn",
        "colab_type": "text"
      },
      "source": [
        "## [Método da Falsa Posição]"
      ]
    },
    {
      "cell_type": "code",
      "metadata": {
        "id": "8RRdIjyArCXX",
        "colab_type": "code",
        "colab": {}
      },
      "source": [
        "def falsa_posicao(f, a, b, epsilon=0, max_iteracoes=0, plot=True):  \n",
        "\n",
        "  eixo_x = a\n",
        "  eixo_y = b\n",
        "  raizes = []\n",
        "  k = 1\n",
        "  \n",
        "  if (f(a) * f(b)) < 0:\n",
        "    x = (a*f(b) - b*f(a)) / (f(b)-f(a))\n",
        "    raizes.append(x)\n",
        "    \n",
        "    if (max_iteracoes > 0):\n",
        "      while (k < max_iteracoes):\n",
        "        if (f(a) * f(b) < 0):\n",
        "          b = x\n",
        "        else:\n",
        "          a = x\n",
        "        x = (a*f(b) - b*f(a)) / (f(b)-f(a))\n",
        "        raizes.append(x)\n",
        "        k += 1\n",
        "\n",
        "    else:\n",
        "      while (abs(f(x)) > epsilon and k <= 500):\n",
        "        if (f(a) * f(b) < 0):\n",
        "          b = x\n",
        "        else:\n",
        "          a = x\n",
        "        x = (a*f(b) - b*f(a)) / (f(b)-f(a))\n",
        "        raizes.append(x)\n",
        "        k += 1\n",
        "    \n",
        "    print(\"A raiz no intervalo é: \", x)\n",
        "    if (plot):\n",
        "      plotMethod(f, eixo_x, eixo_y, raizes, \"Método da Falsa Posição\")\n",
        "    else:\n",
        "      print(\"Número de iterações: \", len(raizes))\n",
        "  else:\n",
        "    print(\"Não existem raizes no intervalo [\", a, \", \", b, \"]\")"
      ],
      "execution_count": null,
      "outputs": []
    },
    {
      "cell_type": "code",
      "metadata": {
        "id": "78qv-thhtVHd",
        "colab_type": "code",
        "colab": {
          "base_uri": "https://localhost:8080/"
        },
        "outputId": "ba2e7dc5-5e23-4356-dc67-11c28d89e1d1"
      },
      "source": [
        "# Teste\n",
        "f = lambda x: pow(x, 3) - 9*x + 5\n",
        "falsa_posicao(f, 0, 1, epsilon=5e-4)"
      ],
      "execution_count": null,
      "outputs": [
        {
          "output_type": "stream",
          "text": [
            "A raiz no intervalo é:  0.5769104705239562\n"
          ],
          "name": "stdout"
        },
        {
          "output_type": "display_data",
          "data": {
            "image/png": "[encoded data removed]",
            "text/plain": [
              "<Figure size 432x288 with 1 Axes>"
            ]
          },
          "metadata": {
            "tags": [],
            "needs_background": "light"
          }
        }
      ]
    },
    {
      "cell_type": "markdown",
      "metadata": {
        "id": "904ab7UE6ay_",
        "colab_type": "text"
      },
      "source": [
        "## [Método da Tangente]"
      ]
    },
    {
      "cell_type": "code",
      "metadata": {
        "id": "T-LiO8zl6d2_",
        "colab_type": "code",
        "colab": {}
      },
      "source": [
        "def tangente(f, d, x, epsilon=0, max_iteracoes=0, plot=True):  \n",
        "\n",
        "  eixo_x = -5\n",
        "  eixo_y = 5\n",
        "  raizes = []\n",
        "  raizes.append(x)\n",
        "  \n",
        "  if (abs(f(x)) >= epsilon): \n",
        "    x = x - (f(x)/(d.subs(sym.Symbol('x'), x)))\n",
        "    k = 1\n",
        "\n",
        "    if (max_iteracoes > 0):\n",
        "      while (k < max_iteracoes):\n",
        "        raizes.append(x)\n",
        "        x = x - (f(x)/(d.subs(sym.Symbol('x'), x)))\n",
        "        k += 1\n",
        "  \n",
        "    else:\n",
        "      while (abs(f(x)) > epsilon and k <= 500):\n",
        "        raizes.append(x)\n",
        "        x = x - (f(x)/(d.subs(sym.Symbol('x'), x)))\n",
        "        k += 1\n",
        "    \n",
        "  try:\n",
        "    print(\"A raiz é: \", x.evalf())\n",
        "  except AttributeError:\n",
        "    print(\"A raiz é: \", x)\n",
        "  if (plot):\n",
        "    plotMethod(f, eixo_x, eixo_y, raizes, \"Método da Tangente\")\n",
        "  else:\n",
        "      print(\"Número de iterações: \", len(raizes))"
      ],
      "execution_count": null,
      "outputs": []
    },
    {
      "cell_type": "code",
      "metadata": {
        "id": "9xOXZelD64XU",
        "colab_type": "code",
        "colab": {
          "base_uri": "https://localhost:8080/"
        },
        "outputId": "bdec61f8-e408-4600-89b3-df64083f0663"
      },
      "source": [
        "# Teste\n",
        "f = lambda x: pow(x, 3) - 9*x + 3\n",
        "d = sym.diff((pow(x, 3) - 9*x + 3), x)\n",
        "tangente(f, d, 0.75, epsilon=10e-2)"
      ],
      "execution_count": null,
      "outputs": [
        {
          "output_type": "stream",
          "text": [
            "A raiz é:  0.337415141172970\n"
          ],
          "name": "stdout"
        },
        {
          "output_type": "display_data",
          "data": {
            "image/png": "[encoded data removed]",
            "text/plain": [
              "<Figure size 432x288 with 1 Axes>"
            ]
          },
          "metadata": {
            "tags": [],
            "needs_background": "light"
          }
        }
      ]
    },
    {
      "cell_type": "code",
      "metadata": {
        "id": "EbSPyL9K9YP6",
        "colab_type": "code",
        "colab": {}
      },
      "source": [
        "# Na questão 6-a) e 6-b) o sympy estava me retornando um erro, então fiz uma versão sem usá-lo\n",
        "def tangente_without_sympy(f, d, x, epsilon=0, max_iteracoes=0, plot=True):  \n",
        "\n",
        "  eixo_x = -5\n",
        "  eixo_y = 5\n",
        "  raizes = []\n",
        "  raizes.append(x)\n",
        "  \n",
        "  if (abs(f(x)) >= epsilon): \n",
        "    x = x - (f(x)/d(x))\n",
        "    k = 1\n",
        "\n",
        "    if (max_iteracoes > 0):\n",
        "      while (k < max_iteracoes):\n",
        "        raizes.append(x)\n",
        "        x = x - (f(x)/d(x))\n",
        "        k += 1\n",
        "  \n",
        "    else:\n",
        "      while (abs(f(x)) > epsilon and k <= 500):\n",
        "        raizes.append(x)\n",
        "        x = x - (f(x)/d(x))\n",
        "        k += 1\n",
        "    \n",
        "  try:\n",
        "    print(\"A raiz é: \", x.evalf())\n",
        "  except AttributeError:\n",
        "    print(\"A raiz é: \", x)\n",
        "  if (plot):\n",
        "    plotMethod(f, eixo_x, eixo_y, raizes, \"Método da Tangente\")\n",
        "  else:\n",
        "      print(\"Número de iterações: \", len(raizes))"
      ],
      "execution_count": null,
      "outputs": []
    },
    {
      "cell_type": "markdown",
      "metadata": {
        "id": "kTznUQKM7sZP",
        "colab_type": "text"
      },
      "source": [
        "## [Método da Secante]"
      ]
    },
    {
      "cell_type": "code",
      "metadata": {
        "id": "6P8SGq_u7vZA",
        "colab_type": "code",
        "colab": {}
      },
      "source": [
        "def secante(f, x0, x1, epsilon=0, max_iteracoes=0, plot=True):  \n",
        "\n",
        "  eixo_x = x0\n",
        "  eixo_y = x1\n",
        "  raizes = [] \n",
        "  k = 1\n",
        "\n",
        "  if (abs(f(x0)) < epsilon):\n",
        "    raizes.append(x0)  \n",
        "    print(\"A raiz no intervalo é: \", x0)\n",
        "  \n",
        "  else:\n",
        "    raizes.append(x1)\n",
        "\n",
        "    if (max_iteracoes > 0):\n",
        "      while (k < max_iteracoes):\n",
        "        tmp = x1  \n",
        "        x1 = x1 - ((f(x1) / (f(x1) - f(x0))) * (x1 - x0))\n",
        "        x0 = tmp\n",
        "        raizes.append(x1)\n",
        "        k += 1\n",
        "\n",
        "    else:\n",
        "      while (abs(f(x1)) >= epsilon and k <= 500):\n",
        "        tmp = x1  \n",
        "        x1 = x1 - ((f(x1) / (f(x1) - f(x0))) * (x1 - x0))\n",
        "        x0 = tmp\n",
        "        raizes.append(x1)\n",
        "        k += 1\n",
        "\n",
        "    try:\n",
        "      print(\"A raiz é: \", x1.evalf())\n",
        "    except AttributeError:\n",
        "      print(\"A raiz é: \", x1)\n",
        "  if (plot):\n",
        "    plotMethod(f, eixo_x, eixo_y, raizes, \"Método da Secante\")\n",
        "  else:\n",
        "      print(\"Número de iterações: \", len(raizes))"
      ],
      "execution_count": null,
      "outputs": []
    },
    {
      "cell_type": "code",
      "metadata": {
        "id": "uERyFP1493P_",
        "colab_type": "code",
        "colab": {
          "base_uri": "https://localhost:8080/"
        },
        "outputId": "26e1e4ea-0f60-4e10-dde9-83c4af97f234"
      },
      "source": [
        "# Teste\n",
        "f = lambda x: pow(x, 2) + x - 6\n",
        "secante(f, 1.5, 1.7, 10e-2)"
      ],
      "execution_count": null,
      "outputs": [
        {
          "output_type": "stream",
          "text": [
            "A raiz é:  1.997737556561086\n"
          ],
          "name": "stdout"
        },
        {
          "output_type": "display_data",
          "data": {
            "image/png": "[encoded data removed]",
            "text/plain": [
              "<Figure size 432x288 with 1 Axes>"
            ]
          },
          "metadata": {
            "tags": [],
            "needs_background": "light"
          }
        }
      ]
    },
    {
      "cell_type": "markdown",
      "metadata": {
        "id": "LYwGGG8cuZwO",
        "colab_type": "text"
      },
      "source": [
        "## [Questão 1]"
      ]
    },
    {
      "cell_type": "markdown",
      "metadata": {
        "id": "_vgiGlm1umGI",
        "colab_type": "text"
      },
      "source": [
        "Determine a raiz da função f(x) = – 12 – 21x + 18x² – 2.75x³ com o método da bissecção e da falsa posição. Utilize as aproximações iniciais a = -1 e b = 0 e um critério de parada de 1%."
      ]
    },
    {
      "cell_type": "code",
      "metadata": {
        "id": "MIzQa8w6uhOn",
        "colab_type": "code",
        "colab": {
          "base_uri": "https://localhost:8080/"
        },
        "outputId": "790b7869-ad9d-4d46-e386-85f1666e736a"
      },
      "source": [
        "f = lambda x: -12 - 21*x + 18 * pow(x, 2) - 2.75 * pow(x, 3)\n",
        "bisseccao(f, -1, 0, 0.01)\n",
        "falsa_posicao(f, -1, 0, 0.01)"
      ],
      "execution_count": null,
      "outputs": [
        {
          "output_type": "stream",
          "text": [
            "A raiz no intervalo é:  -0.41455078125\n"
          ],
          "name": "stdout"
        },
        {
          "output_type": "display_data",
          "data": {
            "image/png": "[encoded data removed]",
            "text/plain": [
              "<Figure size 432x288 with 1 Axes>"
            ]
          },
          "metadata": {
            "tags": [],
            "needs_background": "light"
          }
        },
        {
          "output_type": "stream",
          "text": [
            "A raiz no intervalo é:  -0.41451224401228687\n"
          ],
          "name": "stdout"
        },
        {
          "output_type": "display_data",
          "data": {
            "image/png": "[encoded data removed]",
            "text/plain": [
              "<Figure size 432x288 with 1 Axes>"
            ]
          },
          "metadata": {
            "tags": [],
            "needs_background": "light"
          }
        }
      ]
    },
    {
      "cell_type": "markdown",
      "metadata": {
        "id": "WETM8n6mv5gp",
        "colab_type": "text"
      },
      "source": [
        "## [Questão 2]"
      ]
    },
    {
      "cell_type": "markdown",
      "metadata": {
        "id": "0bRsjlwTv-Qt",
        "colab_type": "text"
      },
      "source": [
        "Determine a raiz da função f(x) = ln(x²) - 0.7 com o método da bissecção e da falsa posição. Utilize três iterações e as aproximações iniciais a = 0.5 e b = 2."
      ]
    },
    {
      "cell_type": "code",
      "metadata": {
        "id": "MUGfMb11wEpK",
        "colab_type": "code",
        "colab": {
          "base_uri": "https://localhost:8080/"
        },
        "outputId": "d0a186a7-102e-4c3f-fc0c-88f256017a15"
      },
      "source": [
        "f = lambda x: math.log(pow(x, 2)) - 0.7\n",
        "bisseccao(f, 0.5, 2, max_iteracoes=3)\n",
        "falsa_posicao(f, 0.5, 2, max_iteracoes=3)"
      ],
      "execution_count": null,
      "outputs": [
        {
          "output_type": "stream",
          "text": [
            "A raiz no intervalo é:  1.4375\n"
          ],
          "name": "stdout"
        },
        {
          "output_type": "display_data",
          "data": {
            "image/png": "[encoded data removed]",
            "text/plain": [
              "<Figure size 432x288 with 1 Axes>"
            ]
          },
          "metadata": {
            "tags": [],
            "needs_background": "light"
          }
        },
        {
          "output_type": "stream",
          "text": [
            "A raiz no intervalo é:  1.4483985429092026\n"
          ],
          "name": "stdout"
        },
        {
          "output_type": "display_data",
          "data": {
            "image/png": "[encoded data removed]",
            "text/plain": [
              "<Figure size 432x288 with 1 Axes>"
            ]
          },
          "metadata": {
            "tags": [],
            "needs_background": "light"
          }
        }
      ]
    },
    {
      "cell_type": "markdown",
      "metadata": {
        "id": "ED-Da84L-2aE",
        "colab_type": "text"
      },
      "source": [
        "## [Questão 3]"
      ]
    },
    {
      "cell_type": "markdown",
      "metadata": {
        "id": "04V4X-Yu-72J",
        "colab_type": "text"
      },
      "source": [
        "Determine a maior raiz real de f(x) = 0.95x³ - 5.9x² + 10.9x – 6\n",
        "\n",
        "a) Graficamente\n",
        "\n",
        "b) Usando o método da tangente (três iterações, x0 = 3.5)\n",
        "\n",
        "c) Usando o método da secante (três iterações, x0 = 2.5 e x1= 3.5)"
      ]
    },
    {
      "cell_type": "code",
      "metadata": {
        "id": "JrHiCB5mBa1d",
        "colab_type": "code",
        "colab": {}
      },
      "source": [
        "f = lambda x: 0.95*pow(x, 3) - 5.9*pow(x, 2) + 10.9*x - 6\n",
        "d = sym.diff((0.95*pow(x, 3) - 5.9*pow(x, 2) + 10.9*x - 6), x)"
      ],
      "execution_count": null,
      "outputs": []
    },
    {
      "cell_type": "code",
      "metadata": {
        "id": "lM0Jlwd9-60L",
        "colab_type": "code",
        "colab": {
          "base_uri": "https://localhost:8080/"
        },
        "outputId": "6ac65cb6-ba4b-4475-d4e9-096b3806fd4f"
      },
      "source": [
        "# a)\n",
        "print(\"Avaliando graficamente, pode se dizer que uma aproximação da raiz é 3.3\")\n",
        "plotMethod(f, -1, 5)"
      ],
      "execution_count": null,
      "outputs": [
        {
          "output_type": "stream",
          "text": [
            "Avaliando graficamente, pode se dizer que uma aproximação da raiz é 3.3\n"
          ],
          "name": "stdout"
        },
        {
          "output_type": "display_data",
          "data": {
            "image/png": "[encoded data removed]",
            "text/plain": [
              "<Figure size 432x288 with 1 Axes>"
            ]
          },
          "metadata": {
            "tags": [],
            "needs_background": "light"
          }
        }
      ]
    },
    {
      "cell_type": "code",
      "metadata": {
        "id": "GwOXZlyFALS7",
        "colab_type": "code",
        "colab": {
          "base_uri": "https://localhost:8080/"
        },
        "outputId": "5951cd77-0edf-4103-bc8d-0720b11dc36e"
      },
      "source": [
        "# b)\n",
        "tangente(f, d, 3.5, max_iteracoes=3)"
      ],
      "execution_count": null,
      "outputs": [
        {
          "output_type": "stream",
          "text": [
            "A raiz é:  3.34464543173747\n"
          ],
          "name": "stdout"
        },
        {
          "output_type": "display_data",
          "data": {
            "image/png": "[encoded data removed]",
            "text/plain": [
              "<Figure size 432x288 with 1 Axes>"
            ]
          },
          "metadata": {
            "tags": [],
            "needs_background": "light"
          }
        }
      ]
    },
    {
      "cell_type": "code",
      "metadata": {
        "id": "KEUdLxioC_kF",
        "colab_type": "code",
        "colab": {
          "base_uri": "https://localhost:8080/"
        },
        "outputId": "5d98885c-5bb5-4228-9b2d-a13326e90a7c"
      },
      "source": [
        "# c)\n",
        "secante(f, 2.5, 3.5, max_iteracoes=3)"
      ],
      "execution_count": null,
      "outputs": [
        {
          "output_type": "stream",
          "text": [
            "A raiz é:  3.29190623725681\n"
          ],
          "name": "stdout"
        },
        {
          "output_type": "display_data",
          "data": {
            "image/png": "[encoded data removed]",
            "text/plain": [
              "<Figure size 432x288 with 1 Axes>"
            ]
          },
          "metadata": {
            "tags": [],
            "needs_background": "light"
          }
        }
      ]
    },
    {
      "cell_type": "markdown",
      "metadata": {
        "id": "TBTtGcafEOtd",
        "colab_type": "text"
      },
      "source": [
        "## [Questão 4]"
      ]
    },
    {
      "cell_type": "markdown",
      "metadata": {
        "id": "xzXeSEh-ERUp",
        "colab_type": "text"
      },
      "source": [
        "Determine a menor raiz real de f(x) = 8sen(x)e^-x - 1\n",
        "\n",
        "a) Graficamente\n",
        "\n",
        "b) Usando o método da tangente (três iterações, x0 = 0.3)\n",
        "\n",
        "c) Usando o método da secante (três iterações, x0 = 0.5 e x1= 0.4)"
      ]
    },
    {
      "cell_type": "code",
      "metadata": {
        "id": "LB1AGVa-EhvY",
        "colab_type": "code",
        "colab": {}
      },
      "source": [
        "f = lambda x: 8 * math.sin(x) * math.exp(-1 * x) - 1\n",
        "d = sym.diff((8 * sym.sin(x) * sym.exp(-1 * x) - 1), x)"
      ],
      "execution_count": null,
      "outputs": []
    },
    {
      "cell_type": "code",
      "metadata": {
        "id": "k7-YBLlEIO7a",
        "colab_type": "code",
        "colab": {
          "base_uri": "https://localhost:8080/"
        },
        "outputId": "dcca56d9-e376-45ff-fae8-43325239025e"
      },
      "source": [
        "# a)\n",
        "print(\"Avaliando graficamente, pode se dizer que uma aproximação da menor raiz é 0.2\")\n",
        "plotMethod(f, 0, 3)"
      ],
      "execution_count": null,
      "outputs": [
        {
          "output_type": "stream",
          "text": [
            "Avaliando graficamente, pode se dizer que uma aproximação da menor raiz é 0.2\n"
          ],
          "name": "stdout"
        },
        {
          "output_type": "display_data",
          "data": {
            "image/png": "[encoded data removed]",
            "text/plain": [
              "<Figure size 432x288 with 1 Axes>"
            ]
          },
          "metadata": {
            "tags": [],
            "needs_background": "light"
          }
        }
      ]
    },
    {
      "cell_type": "code",
      "metadata": {
        "id": "EfdBjo0hIuND",
        "colab_type": "code",
        "colab": {
          "base_uri": "https://localhost:8080/"
        },
        "outputId": "bc716a20-3f7b-4a5f-f552-8e81a2fc800f"
      },
      "source": [
        "# b)\n",
        "tangente(f, d, 0.3, max_iteracoes=3)"
      ],
      "execution_count": null,
      "outputs": [
        {
          "output_type": "stream",
          "text": [
            "A raiz é:  0.145012084315025\n"
          ],
          "name": "stdout"
        },
        {
          "output_type": "display_data",
          "data": {
            "image/png": "[encoded data removed]",
            "text/plain": [
              "<Figure size 432x288 with 1 Axes>"
            ]
          },
          "metadata": {
            "tags": [],
            "needs_background": "light"
          }
        }
      ]
    },
    {
      "cell_type": "code",
      "metadata": {
        "id": "iktRvFs5JK31",
        "colab_type": "code",
        "colab": {
          "base_uri": "https://localhost:8080/"
        },
        "outputId": "5d0cbdcd-b766-4e4e-be4f-b47299844e28"
      },
      "source": [
        "# c)\n",
        "secante(f, 0.5, 0.4, max_iteracoes=3)"
      ],
      "execution_count": null,
      "outputs": [
        {
          "output_type": "stream",
          "text": [
            "A raiz é:  0.20659827709548462\n"
          ],
          "name": "stdout"
        },
        {
          "output_type": "display_data",
          "data": {
            "image/png": "[encoded data removed]",
            "text/plain": [
              "<Figure size 432x288 with 1 Axes>"
            ]
          },
          "metadata": {
            "tags": [],
            "needs_background": "light"
          }
        }
      ]
    },
    {
      "cell_type": "markdown",
      "metadata": {
        "id": "vtCzINEnLeqh",
        "colab_type": "text"
      },
      "source": [
        "## [Questão 5]"
      ]
    },
    {
      "cell_type": "markdown",
      "metadata": {
        "id": "ybdtUrPZLhcc",
        "colab_type": "text"
      },
      "source": [
        "O polinômio p(x) = x⁵ – 10/3x³ + 5/21x tem suas cinco raízes, todas no\n",
        "intervalo [-1, 1]\n",
        "\n",
        "a) Verifique que x1 ∈ [-1, -0.75], x2 ∈ [-0.75, -0.25], x3 ∈ [-0.25, 0.25], x4 ∈ [0.3,0.8], x5∈[0.8, 1]\n",
        "\n",
        "b) Encontre as raízes utilizando os método elencados abaixo, usando epsilon = 10^-5\n",
        "\n",
        "x1: Tangente x0 = -0.8\n",
        "\n",
        "x2: Bissecção a = -0.75 e b= -0.25\n",
        "\n",
        "x3: Falsa Posição a = -0.25 e b= 0.25\n",
        "\n",
        "x4: Secante x0 = 0.3 e x1= 0.8"
      ]
    },
    {
      "cell_type": "code",
      "metadata": {
        "id": "pTISCpEXLs00",
        "colab_type": "code",
        "colab": {}
      },
      "source": [
        "f = lambda x: pow(x, 5) - 10/3 * pow(x, 3) + 5/21 * x\n",
        "d = sym.diff((pow(x, 5) - 10/3 * pow(x, 3) + 5/21 * x), x)"
      ],
      "execution_count": null,
      "outputs": []
    },
    {
      "cell_type": "code",
      "metadata": {
        "id": "4nstZIDrNETW",
        "colab_type": "code",
        "colab": {
          "base_uri": "https://localhost:8080/"
        },
        "outputId": "86ce3ed6-18da-491a-d10e-40212541490c"
      },
      "source": [
        "# a)\n",
        "print(\"--- x1 ∈ [-1, -0.75] --- \")\n",
        "bisseccao(f, -1, -0.75, max_iteracoes=50, plot=False)\n",
        "print(\"\\n\")\n",
        "\n",
        "print(\"--- x2 ∈ [-0.75, -0.25] ---\")\n",
        "bisseccao(f, -0.75, -0.25, max_iteracoes=50, plot=False)\n",
        "print(\"\\n\")\n",
        "\n",
        "print(\"--- x3 ∈ [-0.25, 0.25] ---\")\n",
        "bisseccao(f, -0.25, 0.25, max_iteracoes=50, plot=False)\n",
        "print(\"\\n\")\n",
        "\n",
        "print(\"--- x4 ∈ [0.3, 0.8] ---\")\n",
        "bisseccao(f, 0.3, 0.8, max_iteracoes=50, plot=False)\n",
        "print(\"\\n\")\n",
        "\n",
        "print(\"--- x5 ∈ [0.8, 1] ---\")\n",
        "bisseccao(f, 0.8, 1, max_iteracoes=50, plot=False)\n",
        "print(\"\\n\")"
      ],
      "execution_count": null,
      "outputs": [
        {
          "output_type": "stream",
          "text": [
            "--- x1 ∈ [-1, -0.75] --- \n",
            "Não existem raizes no intervalo [ -1 ,  -0.75 ]\n",
            "\n",
            "\n",
            "--- x2 ∈ [-0.75, -0.25] ---\n",
            "A raiz no intervalo é:  -0.2702378968380921\n",
            "Número de iterações:  50\n",
            "\n",
            "\n",
            "--- x3 ∈ [-0.25, 0.25] ---\n",
            "A raiz no intervalo é:  0.24999999999999956\n",
            "Número de iterações:  50\n",
            "\n",
            "\n",
            "--- x4 ∈ [0.3, 0.8] ---\n",
            "Não existem raizes no intervalo [ 0.3 ,  0.8 ]\n",
            "\n",
            "\n",
            "--- x5 ∈ [0.8, 1] ---\n",
            "Não existem raizes no intervalo [ 0.8 ,  1 ]\n",
            "\n",
            "\n"
          ],
          "name": "stdout"
        }
      ]
    },
    {
      "cell_type": "code",
      "metadata": {
        "id": "rSbypr89PrBX",
        "colab_type": "code",
        "colab": {
          "base_uri": "https://localhost:8080/"
        },
        "outputId": "39f5253b-d1b5-4d77-c229-5107acc4deb1"
      },
      "source": [
        "# b)\n",
        "epsilon = 10e-5\n",
        "\n",
        "print(\"--- x1: Tangente x0 = -0.8 ---\")\n",
        "tangente(f, d, -0.8, epsilon=epsilon, plot=False)\n",
        "print(\"\\n\")\n",
        "\n",
        "print(\"--- x2: Bissecção a = -0.75 e b= -0.25 ---\")\n",
        "bisseccao(f, -0.75, -0.25, epsilon=epsilon, plot=False)\n",
        "print(\"\\n\")\n",
        "\n",
        "print(\"--- x3: Falsa Posição a = -0.25 e b= 0.25 ---\")\n",
        "falsa_posicao(f, -0.25, 0.25, epsilon=epsilon, plot=False)\n",
        "print(\"\\n\")\n",
        "\n",
        "print(\"--- x4: Secante x0 = 0.3 e x1= 0.8 ---\")\n",
        "secante(f, 0.3, 0.8, epsilon=epsilon, plot=False)\n",
        "print(\"\\n\")"
      ],
      "execution_count": null,
      "outputs": [
        {
          "output_type": "stream",
          "text": [
            "--- x1: Tangente x0 = -0.8 ---\n",
            "A raiz é:  -0.270299964668665\n",
            "Número de iterações:  5\n",
            "\n",
            "\n",
            "--- x2: Bissecção a = -0.75 e b= -0.25 ---\n",
            "A raiz no intervalo é:  -0.270263671875\n",
            "Número de iterações:  11\n",
            "\n",
            "\n",
            "--- x3: Falsa Posição a = -0.25 e b= 0.25 ---\n",
            "A raiz no intervalo é:  0.0\n",
            "Número de iterações:  1\n",
            "\n",
            "\n",
            "--- x4: Secante x0 = 0.3 e x1= 0.8 ---\n",
            "A raiz é:  0.27040064514781964\n",
            "Número de iterações:  5\n",
            "\n",
            "\n"
          ],
          "name": "stdout"
        }
      ]
    },
    {
      "cell_type": "markdown",
      "metadata": {
        "id": "5bG14b29Rnhh",
        "colab_type": "text"
      },
      "source": [
        "## [Questão 6]"
      ]
    },
    {
      "cell_type": "markdown",
      "metadata": {
        "id": "pS07Kb5eRp8K",
        "colab_type": "text"
      },
      "source": [
        "Compare o desempenho dos métodos da Bissecção, Falsa Posição, Secante\n",
        "e Tangente nas equações abaixo:\n",
        "\n",
        "![asdasd](https://uploaddeimagens.com.br/images/002/763/826/original/Screenshot_from_2020-07-11_16-15-18.png?1594494974)"
      ]
    },
    {
      "cell_type": "code",
      "metadata": {
        "id": "ab7ctuYfTrQM",
        "colab_type": "code",
        "colab": {
          "base_uri": "https://localhost:8080/",
          "height": 357
        },
        "outputId": "9de7c3ec-a3e8-4761-d79f-885f29fba6b1"
      },
      "source": [
        "# a)\n",
        "f = lambda x: math.exp(-pow(x, 2)) - math.cos(x)\n",
        "d = lambda x: math.exp(-pow(x, 2))*2*x + math.sin(x)\n",
        "epsilon = 10e-4\n",
        "\n",
        "print(\"--- Bissecção ---\")\n",
        "bisseccao(f, 1, 2, epsilon=epsilon, plot=False)\n",
        "print(\"\\n\")\n",
        "\n",
        "print(\"--- Falsa Posição ---\")\n",
        "falsa_posicao(f, 1, 2, epsilon=epsilon, plot=False)\n",
        "print(\"\\n\")\n",
        "\n",
        "print(\"--- Tangente ---\")\n",
        "tangente_without_sympy(f, d, 1, epsilon=epsilon, plot=False)\n",
        "print(\"\\n\")\n",
        "\n",
        "print(\"--- Secante ---\")\n",
        "secante(f, 1, 2, epsilon=epsilon, plot=False)\n",
        "print(\"\\n\")"
      ],
      "execution_count": null,
      "outputs": [
        {
          "output_type": "stream",
          "text": [
            "--- Bissecção ---\n",
            "A raiz no intervalo é:  1.447265625\n",
            "Número de iterações:  9\n",
            "\n",
            "\n",
            "--- Falsa Posição ---\n",
            "A raiz no intervalo é:  1.447271932527536\n",
            "Número de iterações:  5\n",
            "\n",
            "\n",
            "--- Tangente ---\n",
            "A raiz é:  1.4460228118547804\n",
            "Número de iterações:  11\n",
            "\n",
            "\n",
            "--- Secante ---\n",
            "A raiz é:  1.4472279182675227\n",
            "Número de iterações:  5\n",
            "\n",
            "\n"
          ],
          "name": "stdout"
        }
      ]
    },
    {
      "cell_type": "code",
      "metadata": {
        "id": "QKHRRP8d-9tq",
        "colab_type": "code",
        "colab": {
          "base_uri": "https://localhost:8080/",
          "height": 357
        },
        "outputId": "9355c85d-a08c-4e28-935d-9be39006f023"
      },
      "source": [
        "# b)\n",
        "f = lambda x: pow(x, 3) - x - 1\n",
        "d = sym.diff((pow(x, 3) - x - 1), x)\n",
        "epsilon = 10e-6\n",
        "\n",
        "print(\"--- Bissecção ---\")\n",
        "bisseccao(f, 1, 2, epsilon=epsilon, plot=False)\n",
        "print(\"\\n\")\n",
        "\n",
        "print(\"--- Falsa Posição ---\")\n",
        "falsa_posicao(f, 1, 2, epsilon=epsilon, plot=False)\n",
        "print(\"\\n\")\n",
        "\n",
        "print(\"--- Tangente ---\")\n",
        "tangente(f, d, 1, epsilon=epsilon, plot=False)\n",
        "print(\"\\n\")\n",
        "\n",
        "print(\"--- Secante ---\")\n",
        "secante(f, 1, 2, epsilon=epsilon, plot=False)\n",
        "print(\"\\n\")"
      ],
      "execution_count": null,
      "outputs": [
        {
          "output_type": "stream",
          "text": [
            "--- Bissecção ---\n",
            "A raiz no intervalo é:  1.3247184753417969\n",
            "Número de iterações:  18\n",
            "\n",
            "\n",
            "--- Falsa Posição ---\n",
            "A raiz no intervalo é:  1.3247177816630842\n",
            "Número de iterações:  7\n",
            "\n",
            "\n",
            "--- Tangente ---\n",
            "A raiz é:  1.32471817399905\n",
            "Número de iterações:  4\n",
            "\n",
            "\n",
            "--- Secante ---\n",
            "A raiz é:  1.3247179653538177\n",
            "Número de iterações:  7\n",
            "\n",
            "\n"
          ],
          "name": "stdout"
        }
      ]
    },
    {
      "cell_type": "code",
      "metadata": {
        "id": "q4WimRulAi_6",
        "colab_type": "code",
        "colab": {
          "base_uri": "https://localhost:8080/",
          "height": 357
        },
        "outputId": "2220c165-cfb9-4f2c-cc17-91b96401824f"
      },
      "source": [
        "# c)\n",
        "f = lambda x: 4*math.sin(x) - math.exp(x)\n",
        "d = lambda x: 4*math.cos(x) - math.exp(x)\n",
        "epsilon = 10e-5\n",
        "\n",
        "print(\"--- Bissecção ---\")\n",
        "bisseccao(f, 0, 1, epsilon=epsilon, plot=False)\n",
        "print(\"\\n\")\n",
        "\n",
        "print(\"--- Falsa Posição ---\")\n",
        "falsa_posicao(f, 0, 1, epsilon=epsilon, plot=False)\n",
        "print(\"\\n\")\n",
        "\n",
        "print(\"--- Tangente ---\")\n",
        "tangente_without_sympy(f, d, 0, epsilon=epsilon, plot=False)\n",
        "print(\"\\n\")\n",
        "\n",
        "print(\"--- Secante ---\")\n",
        "secante(f, 0, 1, epsilon=epsilon, plot=False)\n",
        "print(\"\\n\")"
      ],
      "execution_count": null,
      "outputs": [
        {
          "output_type": "stream",
          "text": [
            "--- Bissecção ---\n",
            "A raiz no intervalo é:  0.37054443359375\n",
            "Número de iterações:  14\n",
            "\n",
            "\n",
            "--- Falsa Posição ---\n",
            "A raiz no intervalo é:  0.37058852288011\n",
            "Número de iterações:  6\n",
            "\n",
            "\n",
            "--- Tangente ---\n",
            "A raiz é:  0.3705576855322359\n",
            "Número de iterações:  3\n",
            "\n",
            "\n",
            "--- Secante ---\n",
            "A raiz é:  0.3705638389164971\n",
            "Número de iterações:  7\n",
            "\n",
            "\n"
          ],
          "name": "stdout"
        }
      ]
    },
    {
      "cell_type": "code",
      "metadata": {
        "id": "5PUQBJvcCeHg",
        "colab_type": "code",
        "colab": {
          "base_uri": "https://localhost:8080/",
          "height": 323
        },
        "outputId": "45f8c49b-3ff6-4f3e-e8b5-a38a48e7227e"
      },
      "source": [
        "# d)\n",
        "f = lambda x: x*math.log(x) - 1\n",
        "d = sym.diff((x*sym.log(x) - 1), x)\n",
        "epsilon = 10e-7\n",
        "\n",
        "print(\"--- Bissecção ---\")\n",
        "bisseccao(f, 2, 3, epsilon=epsilon, plot=False)\n",
        "print(\"\\n\")\n",
        "\n",
        "print(\"--- Falsa Posição ---\")\n",
        "falsa_posicao(f, 2, 3, epsilon=epsilon, plot=False)\n",
        "print(\"\\n\")\n",
        "\n",
        "print(\"--- Tangente ---\")\n",
        "tangente(f, d, 2, epsilon=epsilon, plot=False)\n",
        "print(\"\\n\")\n",
        "\n",
        "print(\"--- Secante ---\")\n",
        "secante(f, 2, 3, epsilon=epsilon, plot=False)\n",
        "print(\"\\n\")"
      ],
      "execution_count": null,
      "outputs": [
        {
          "output_type": "stream",
          "text": [
            "--- Bissecção ---\n",
            "Não existem raizes no intervalo [ 2 ,  3 ]\n",
            "\n",
            "\n",
            "--- Falsa Posição ---\n",
            "Não existem raizes no intervalo [ 2 ,  3 ]\n",
            "\n",
            "\n",
            "--- Tangente ---\n",
            "A raiz é:  1.76322283438428\n",
            "Número de iterações:  3\n",
            "\n",
            "\n",
            "--- Secante ---\n",
            "A raiz é:  1.763222865738391\n",
            "Número de iterações:  5\n",
            "\n",
            "\n"
          ],
          "name": "stdout"
        }
      ]
    }
  ]
}